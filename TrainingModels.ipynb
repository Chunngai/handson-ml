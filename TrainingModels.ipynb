{
 "cells": [
  {
   "cell_type": "markdown",
   "metadata": {},
   "source": [
    "**<font color=#000000 size=5>Linear Regression</font>**"
   ]
  },
  {
   "cell_type": "markdown",
   "metadata": {},
   "source": [
    "[notes] 2 ways to train a lin reg model:  \n",
    "1. normal equation (a closed form equation)  \n",
    "2. gradient descent"
   ]
  },
  {
   "cell_type": "markdown",
   "metadata": {},
   "source": [
    "[notes] brief intro to lin reg  \n",
    "More generally, a linear model makes a prediction by simply computing a **weighted sum** of the input features, plus a constant called the **bias term** (also called the **intercept term**)"
   ]
  },
  {
   "cell_type": "markdown",
   "metadata": {},
   "source": [
    "[model]  \n",
    "$\\hat y = \\theta_0 + \\theta_1 x_1 + \\theta_2 x_2 + \\dots + \\theta_n x_n$  \n",
    "or  \n",
    "$\\hat y = h_{\\boldsymbol \\theta}(\\boldsymbol X) = {\\boldsymbol \\theta}^T \\cdot \\boldsymbol X$"
   ]
  },
  {
   "cell_type": "markdown",
   "metadata": {},
   "source": [
    "[equation] MSE cost function for a Linear Regression model  \n",
    "$MSE(\\boldsymbol X, h_{\\boldsymbol \\theta}) = MSE(\\boldsymbol \\theta) = \\frac{1}{m}\\sum^m_{i = 1}({\\boldsymbol \\theta}^T \\cdot \\boldsymbol x^{(i)} - y^{(i)})^2$"
   ]
  },
  {
   "cell_type": "markdown",
   "metadata": {},
   "source": [
    "**<font color=#000000 size=4>The Normal Equation</font>**"
   ]
  },
  {
   "cell_type": "markdown",
   "metadata": {},
   "source": [
    "[notes] a closed form solution"
   ]
  },
  {
   "cell_type": "markdown",
   "metadata": {},
   "source": [
    "[equation] Normal Equation  \n",
    "$\\boldsymbol {\\hat \\theta} = ({\\boldsymbol X}^T \\cdot \\boldsymbol X)^{-1} \\cdot {\\boldsymbol X}^T \\cdot \\boldsymbol y$"
   ]
  },
  {
   "cell_type": "markdown",
   "metadata": {},
   "source": [
    "[implementation] test the equation"
   ]
  },
  {
   "cell_type": "code",
   "execution_count": 1,
   "metadata": {},
   "outputs": [],
   "source": [
    "# generate some linear-looking data\n",
    "import numpy as np\n",
    "\n",
    "X = 2 * np.random.rand(100, 1)  # rand(shape)\n",
    "y = 4 + 3 * X + np.random.randn(100, 1)  # + np.random.rand(shape): Gaussian noise"
   ]
  },
  {
   "cell_type": "code",
   "execution_count": 2,
   "metadata": {},
   "outputs": [
    {
     "data": {
      "image/png": "[encoded data removed]",
      "text/plain": [
       "<Figure size 432x288 with 1 Axes>"
      ]
     },
     "metadata": {
      "needs_background": "light"
     },
     "output_type": "display_data"
    }
   ],
   "source": [
    "# (plot)\n",
    "\n",
    "import matplotlib.pyplot as plt\n",
    "\n",
    "%matplotlib inline\n",
    "plt.plot(X, y, \".\")\n",
    "plt.axis([0, 2, 0, 15])\n",
    "plt.show()"
   ]
  },
  {
   "cell_type": "code",
   "execution_count": 3,
   "metadata": {},
   "outputs": [],
   "source": [
    "# add x_0 = 1 to each instance\n",
    "X_b = np.c_[np.ones(X.shape), X]"
   ]
  },
  {
   "cell_type": "code",
   "execution_count": 4,
   "metadata": {},
   "outputs": [],
   "source": [
    "# calculate the optimal theta\n",
    "theta_best = np.linalg.inv(X_b.T.dot(X_b)).dot(X_b.T).dot(y)"
   ]
  },
  {
   "cell_type": "code",
   "execution_count": 5,
   "metadata": {},
   "outputs": [
    {
     "data": {
      "text/plain": [
       "array([[4.12225016],\n",
       "       [2.87688129]])"
      ]
     },
     "execution_count": 5,
     "metadata": {},
     "output_type": "execute_result"
    }
   ],
   "source": [
    "# see the results\n",
    "theta_best"
   ]
  },
  {
   "cell_type": "code",
   "execution_count": 6,
   "metadata": {},
   "outputs": [
    {
     "data": {
      "text/plain": [
       "array([[4.12225016],\n",
       "       [9.87601274]])"
      ]
     },
     "execution_count": 6,
     "metadata": {},
     "output_type": "execute_result"
    }
   ],
   "source": [
    "# make predictions with the calculated theta\n",
    "X_new = np.array([[0], [2]])\n",
    "X_new_b = np.c_[np.ones((2, 1)), X_new]  # add x_0 = 1 to each instance\n",
    "\n",
    "y_predict = X_new_b.dot(theta_best)\n",
    "y_predict"
   ]
  },
  {
   "cell_type": "markdown",
   "metadata": {},
   "source": [
    "[equation] ${\\boldsymbol y}_{predict} = \\boldsymbol{\\hat X}_{predict} \\cdot \\boldsymbol \\theta$"
   ]
  },
  {
   "cell_type": "code",
   "execution_count": 7,
   "metadata": {},
   "outputs": [
    {
     "data": {
      "image/png": "[encoded data removed]",
      "text/plain": [
       "<Figure size 432x288 with 1 Axes>"
      ]
     },
     "metadata": {
      "needs_background": "light"
     },
     "output_type": "display_data"
    }
   ],
   "source": [
    "# plot the predictions\n",
    "plt.plot(X_new, y_predict, \"r-\")\n",
    "plt.plot(X, y, \"b.\")\n",
    "plt.axis([0, 2, 0, 15])\n",
    "plt.show()"
   ]
  },
  {
   "cell_type": "markdown",
   "metadata": {},
   "source": [
    "[sklearn]"
   ]
  },
  {
   "cell_type": "code",
   "execution_count": 8,
   "metadata": {},
   "outputs": [
    {
     "data": {
      "text/plain": [
       "LinearRegression(copy_X=True, fit_intercept=True, n_jobs=None,\n",
       "         normalize=False)"
      ]
     },
     "execution_count": 8,
     "metadata": {},
     "output_type": "execute_result"
    }
   ],
   "source": [
    "from sklearn.linear_model import LinearRegression\n",
    "\n",
    "# train a lin reg model\n",
    "lin_reg = LinearRegression()\n",
    "lin_reg.fit(X, y)"
   ]
  },
  {
   "cell_type": "code",
   "execution_count": 9,
   "metadata": {},
   "outputs": [
    {
     "data": {
      "text/plain": [
       "(array([4.12225016]), array([[2.87688129]]))"
      ]
     },
     "execution_count": 9,
     "metadata": {},
     "output_type": "execute_result"
    }
   ],
   "source": [
    "# intercept and coefficients\n",
    "lin_reg.intercept_, lin_reg.coef_"
   ]
  },
  {
   "cell_type": "code",
   "execution_count": 10,
   "metadata": {},
   "outputs": [
    {
     "data": {
      "text/plain": [
       "array([[4.12225016],\n",
       "       [9.87601274]])"
      ]
     },
     "execution_count": 10,
     "metadata": {},
     "output_type": "execute_result"
    }
   ],
   "source": [
    "# predict\n",
    "\n",
    "lin_reg.predict(X_new)"
   ]
  },
  {
   "cell_type": "markdown",
   "metadata": {},
   "source": [
    "**<font color=#000000 size=4>Computational Complexity</font>**"
   ]
  },
  {
   "cell_type": "markdown",
   "metadata": {},
   "source": [
    "[notes]  \n",
    "disadvantages:  \n",
    "1. The Normal Equation gets very slow when the number of **features** grows large. (${\\boldsymbol X}^T \\cdot \\boldsymbol X$: an $n \\cdot n$ matrix)\n",
    "  \n",
    "advantages:  \n",
    "1.  linear with regards to **the number of instances** in the training set (it is $O(m)$), so it handles large training sets efficiently, provided they can fit in memory.  <font color=red># why linear?</font>\n",
    "2. **predictions are very fast**:  the computational complexity is linear with regards to both the number of instances you want to make predictions on and the number of features.  <font color=red>#why linear?</font>"
   ]
  },
  {
   "cell_type": "markdown",
   "metadata": {},
   "source": [
    "**<font color=#000000 size=5>Gradient Descent</font>**"
   ]
  },
  {
   "cell_type": "markdown",
   "metadata": {},
   "source": [
    "[notes]  \n",
    "advantages:  \n",
    "1. **a large number of features**  \n",
    "2. when **too many instances to fit in memory**"
   ]
  },
  {
   "cell_type": "markdown",
   "metadata": {},
   "source": [
    "[notes] random init  \n",
    "start by filling θ with random values (this is called random initialization)"
   ]
  },
  {
   "cell_type": "markdown",
   "metadata": {},
   "source": [
    "[notes] the learning rate  \n",
    "If the learning rate is **too small**, then the algorithm will have to go through many iterations to converge, which will take a long time.  \n",
    "  \n",
    "If the learning rate is **too high**, you might jump across the valley and end up on the other side, possibly even higher up than you were before. This might make the algorithm diverge, with larger and larger values, failing to find a good solution"
   ]
  },
  {
   "cell_type": "markdown",
   "metadata": {},
   "source": [
    "[notes] two challenges  \n",
    "1. converge to a **local minimum**, which is not as good as the global minimum.  \n",
    "2. take a very **long time to cross the plateau**, and if you stop too early you will never reach the global minimum."
   ]
  },
  {
   "cell_type": "markdown",
   "metadata": {},
   "source": [
    "<img src=\"./img/Figure4_6.png\">"
   ]
  },
  {
   "cell_type": "markdown",
   "metadata": {},
   "source": [
    "[notes] \n",
    "Fortunately, the **MSE cost function for a Linear Regression model**:  \n",
    "1. **convex function**, which means that if you pick any two points on the curve, the line segment joining them never crosses the curve. This implies that there are no local minima, just one global minimum.  \n",
    "2. It is also a **continuous function** with a slope that never changes abruptly.  \n",
    "  \n",
    "These two facts have a great consequence: Gradient Descent is **guaranteed to approach arbitrarily close the global minimum (if you wait long\n",
    "enough and if the learning rate is not too high)**."
   ]
  },
  {
   "cell_type": "markdown",
   "metadata": {},
   "source": [
    "[notes] standardization\n",
    "  \n",
    "the figure below shows Gradient Descent on a training set where features 1 and 2 have the same scale (on the left), and on a training set\n",
    "where feature 1 has much smaller values than feature 2 (on the right). \n",
    "  \n",
    "Since feature 1 is smaller, it takes a larger change in $\\theta_1$ to affect the cost function, which is why the bowl is elongated along the $\\theta_1$ axis.  <font color=red># why larger change?</font>"
   ]
  },
  {
   "cell_type": "markdown",
   "metadata": {},
   "source": [
    "<img src=\"./img/Figure4_7.png\">"
   ]
  },
  {
   "cell_type": "markdown",
   "metadata": {},
   "source": [
    "[notes] **standardization** is needed when using gradient descent  \n",
    "When using Gradient Descent, you should ensure that all features have a **similar scale** (e.g., using Scikit-Learn’s StandardScaler class), or else it will take much longer to converge."
   ]
  },
  {
   "cell_type": "markdown",
   "metadata": {},
   "source": [
    "**<font color=#000000 size=4>Batch Gradient Descent</font>**"
   ]
  },
  {
   "cell_type": "markdown",
   "metadata": {},
   "source": [
    "[notes] def  \n",
    "To implement Gradient Descent, you need to compute the gradient of the cost function with regards to **each** model parameter $\\theta_j$."
   ]
  },
  {
   "cell_type": "markdown",
   "metadata": {},
   "source": [
    "[equation]  \n",
    "Partial derivatives of the cost function  \n",
    "$\\frac{\\partial}{\\partial \\theta_j}MSE(\\boldsymbol \\theta) = \\frac{2}{m}\\sum^m_{i=1}({\\boldsymbol \\theta}^T \\cdot {\\boldsymbol x}^{(i)}- y^{(i)})x^{(i)}_j$  \n",
    "  \n",
    "Gradient vector of the cost function  \n",
    "  \n",
    "\n",
    "$\n",
    "\\begin{aligned}\n",
    "\\nabla_{\\boldsymbol \\theta}MSE(\\boldsymbol \\theta) = \n",
    "\\begin{bmatrix}\n",
    "\\frac{\\partial}{\\partial \\theta_0}MSE(\\boldsymbol \\theta) \\\\\n",
    "\\frac{\\partial}{\\partial \\theta_1}MSE(\\boldsymbol \\theta) \\\\\n",
    "\\vdots \\\\\n",
    "\\frac{\\partial}{\\partial \\theta_n}MSE(\\boldsymbol \\theta)\n",
    "\\end{bmatrix}\n",
    "= \\frac{2}{m}{\\boldsymbol X}^T \\cdot (\\boldsymbol X \\cdot \\boldsymbol \\theta - \\boldsymbol y)\n",
    "\\end{aligned}\n",
    "$"
   ]
  },
  {
   "cell_type": "markdown",
   "metadata": {},
   "source": [
    "[notes] the whole batch  \n",
    "it uses the **whole** batch of training data at every step. \n",
    "  \n",
    "disadvantages:  \n",
    "1.  it is terribly **slow** on very **large training sets**  \n",
    "  \n",
    "advantages:  \n",
    "1. Gradient Descent **scales well with the number of features**; training a Linear Regression model when there are hundreds of thousands of features is much faster using Gradient Descent than using the Normal Equation."
   ]
  },
  {
   "cell_type": "markdown",
   "metadata": {},
   "source": [
    "[equation] Gradient Descent step  \n",
    "${\\boldsymbol \\theta}^{(next step)} = \\boldsymbol \\theta - \\eta \\nabla_{\\boldsymbol \\theta}MSE(\\boldsymbol \\theta)$"
   ]
  },
  {
   "cell_type": "markdown",
   "metadata": {},
   "source": [
    "[implementation]"
   ]
  },
  {
   "cell_type": "code",
   "execution_count": 13,
   "metadata": {},
   "outputs": [
    {
     "data": {
      "text/plain": [
       "array([[4.12225016],\n",
       "       [2.87688129]])"
      ]
     },
     "execution_count": 13,
     "metadata": {},
     "output_type": "execute_result"
    }
   ],
   "source": [
    "# hyperparameters of BGD\n",
    "eta = 0.1  # learning rate\n",
    "n_iterations = 1000  # number of iterations\n",
    "\n",
    "m = 100  # data size\n",
    "\n",
    "theta = np.random.randn(2, 1)  # random init\n",
    "\n",
    "# iteration\n",
    "for iteration in range(n_iterations):\n",
    "    gradients = 2 / m * X_b.T.dot(X_b.dot(theta) - y)\n",
    "    theta = theta - eta * gradients\n",
    "    \n",
    "# check theta\n",
    "theta"
   ]
  },
  {
   "cell_type": "markdown",
   "metadata": {},
   "source": [
    "[notes] difference btw rand() and randn(): [numpy.random.randn()与rand()的区别](https://blog.csdn.net/u010758410/article/details/71799142)"
   ]
  },
  {
   "cell_type": "markdown",
   "metadata": {},
   "source": [
    "[notes] find a good learning rate and set the number of iterations    \n",
    "To **find a good learning rate**, you can use **grid search**. However, you may want to limit the number of iterations so that grid search can eliminate models that take too long to converge.  \n",
    "  \n",
    "You may wonder **how to set the number of iterations**. If it is too low, you will still be far away from the optimal solution when the algorithm stops, but if it is too high, you will waste time while the model parameters do not change anymore. **A simple solution is to set a very large number of iterations but to interrupt the algorithm when the gradient vector becomes tiny**—that is, when its norm becomes smaller than a tiny number ϵ (called the tolerance)—because this happens when Gradient Descent has\n",
    "(almost) reached the minimum."
   ]
  },
  {
   "cell_type": "markdown",
   "metadata": {},
   "source": [
    "[notes] convergence rate  \n",
    "When the cost function is convex and its slope does not change abruptly (as is the case for the MSE cost function), it can be shown that Batch Gradient Descent **with a fixed learning rate** has a convergence rate of $O(\\frac{1}{iterations})$. In other words, if you divide the tolerance $\\epsilon$ by 10 (to have a more precise solution), then the algorithm will have to run about 10 times more iterations."
   ]
  },
  {
   "cell_type": "markdown",
   "metadata": {},
   "source": [
    "**<font color=#000000 size=4>Stochastic Gradient Descent</font>**"
   ]
  },
  {
   "cell_type": "markdown",
   "metadata": {},
   "source": [
    "[notes] def  \n",
    "Stochastic Gradient Descent just picks a random instance in the training set at every step and computes the gradients based only on that single instance."
   ]
  },
  {
   "cell_type": "markdown",
   "metadata": {},
   "source": [
    "[notes]  \n",
    "advantages:  \n",
    "1. this makes the algorithm much **faster** since it has very little data to manipulate at every iteration.  \n",
    "2. It also makes it possible to **train on huge training sets**, since only one instance needs to be in memory at each iteration (SGD can be implemented as an out-of-core algorithm)  \n",
    "3.When **the cost function is very irregular**, this can actually help the algorithm **jump out of local minima**, so Stochastic Gradient Descent has a better chance of finding the global minimum than Batch Gradient Descent does.  \n",
    "  \n",
    "disadvantages:  \n",
    "1. this algorithm is **much less regular** than Batch Gradient Descent: instead of gently decreasing until it reaches the minimum, the cost function will bounce up and down, **decreasing only on average**. Over time it will end up very close to the minimum, but once it gets there it will continue to bounce around, never settling down (see Figure 4-9). **So once the algorithm stops, the final parameter values are good, but not optimal.**"
   ]
  },
  {
   "cell_type": "markdown",
   "metadata": {},
   "source": [
    "[notes] one sulution to the dilemma that the algorithm never settles at the mininum  \n",
    "One solution is to **gradually reduce the learning rate**. The steps **start out large** (which **helps make quick progress** and **escape local minima**), then **get smaller and smaller**, **allowing the\n",
    "algorithm to settle at the global minimum.**    "
   ]
  },
  {
   "cell_type": "markdown",
   "metadata": {},
   "source": [
    "[notes] learning schedule  \n",
    "**The function that determines the learning rate at each iteration** is called **the learning schedule**. "
   ]
  },
  {
   "cell_type": "markdown",
   "metadata": {},
   "source": [
    "[notes] trade-off of the reducing speed of the learning rate  \n",
    "**If the learning rate is reduced too quickly, you may get stuck in a local minimum, or even end up frozen halfway to the minimum. If the learning rate is reduced too slowly, you may jump around the minimum for a long time and end up with a suboptimal solution if you halt training too early.**"
   ]
  },
  {
   "cell_type": "markdown",
   "metadata": {},
   "source": [
    "[implementation] "
   ]
  },
  {
   "cell_type": "code",
   "execution_count": 15,
   "metadata": {},
   "outputs": [
    {
     "data": {
      "text/plain": [
       "array([[4.18317177],\n",
       "       [2.84143923]])"
      ]
     },
     "execution_count": 15,
     "metadata": {},
     "output_type": "execute_result"
    }
   ],
   "source": [
    "# hyperparameters of SGD\n",
    "n_epochs = 50\n",
    "t0, t1 = 5, 50  # learning schedule hyperparameters\n",
    "\n",
    "# learning schedule\n",
    "def learning_schedule(t):\n",
    "    return t0 / (t + t1)\n",
    "\n",
    "# random init\n",
    "theta = np.random.randn(2, 1)\n",
    "\n",
    "# iteration\n",
    "for epoch in range(n_epochs):\n",
    "    for i in range(m):\n",
    "        # randomly select an instance\n",
    "        random_index = np.random.randint(m)\n",
    "        xi = X_b[random_index:random_index + 1]\n",
    "        yi = y[random_index:random_index + 1]\n",
    "        \n",
    "        gradients = 2 * xi.T.dot(xi.dot(theta) - yi)  # not needed to / m\n",
    "        eta = learning_schedule(epoch * m + i)\n",
    "        theta = theta - eta * gradients\n",
    "\n",
    "# check theta\n",
    "theta"
   ]
  },
  {
   "cell_type": "markdown",
   "metadata": {},
   "source": [
    "[notes] why (epoch * m + i)?  \n",
    "\n",
    "when epoch = 0:  \n",
    "&nbsp;&nbsp;&nbsp;&nbsp;t = 0, 1, ..., m - 1  \n",
    "  \n",
    "when epoch = 1:  \n",
    "&nbsp;&nbsp;&nbsp;&nbsp;t = m, m + 1, ..., 2m - 1  \n",
    "  \n",
    "thus the learning rate reduces gradually."
   ]
  },
  {
   "cell_type": "markdown",
   "metadata": {},
   "source": [
    "[notes] BGD vs SGD\n",
    "in the example above,  \n",
    "BSG iterates the **whole** set for **1000** times to update theta for 1000 times.  \n",
    "SGD iterates the **whole** set for **50** times to update theta for 50 * 100 = 5000 times"
   ]
  },
  {
   "cell_type": "markdown",
   "metadata": {},
   "source": [
    "[notes] shuffle the training set to make each instance processed in each epoch\n",
    "Note that since instances are picked randomly, some instances may be picked several times per epoch while others may not be picked at all. If you want to be sure that the algorithm **goes through every instance at each epoch**, another approach is to **shuffle the training set, then go through it instance by instance, then shuffle it again (to guarantee random selection), and so on. However, this generally converges more slowly.**"
   ]
  },
  {
   "cell_type": "markdown",
   "metadata": {},
   "source": [
    "[sklearn]"
   ]
  },
  {
   "cell_type": "code",
   "execution_count": 18,
   "metadata": {},
   "outputs": [
    {
     "name": "stderr",
     "output_type": "stream",
     "text": [
      "C:\\Users\\Neko\\Anaconda3\\lib\\site-packages\\sklearn\\linear_model\\stochastic_gradient.py:152: DeprecationWarning: n_iter parameter is deprecated in 0.19 and will be removed in 0.21. Use max_iter and tol instead.\n",
      "  DeprecationWarning)\n"
     ]
    },
    {
     "data": {
      "text/plain": [
       "SGDRegressor(alpha=0.0001, average=False, early_stopping=False, epsilon=0.1,\n",
       "       eta0=0.1, fit_intercept=True, l1_ratio=0.15,\n",
       "       learning_rate='invscaling', loss='squared_loss', max_iter=None,\n",
       "       n_iter=50, n_iter_no_change=5, penalty=None, power_t=0.25,\n",
       "       random_state=None, shuffle=True, tol=None, validation_fraction=0.1,\n",
       "       verbose=0, warm_start=False)"
      ]
     },
     "execution_count": 18,
     "metadata": {},
     "output_type": "execute_result"
    }
   ],
   "source": [
    "from sklearn.linear_model import SGDRegressor\n",
    "\n",
    "# train a sgd reg model\n",
    "sgd_reg = SGDRegressor(n_iter=50, penalty=None, eta0=0.1)  # 50 epochs\n",
    "sgd_reg.fit(X, y.ravel())"
   ]
  },
  {
   "cell_type": "code",
   "execution_count": 19,
   "metadata": {},
   "outputs": [
    {
     "data": {
      "text/plain": [
       "(array([4.15290245]), array([2.90303817]))"
      ]
     },
     "execution_count": 19,
     "metadata": {},
     "output_type": "execute_result"
    }
   ],
   "source": [
    "# intercept and coefficients\n",
    "sgd_reg.intercept_, sgd_reg.coef_"
   ]
  },
  {
   "cell_type": "markdown",
   "metadata": {},
   "source": [
    "**<font color=#000000 size=4>Mini-batch Gradient Descent</font>**"
   ]
  },
  {
   "cell_type": "markdown",
   "metadata": {},
   "source": [
    "[notes] def  \n",
    "at each step, instead of computing the gradients based on the full training set (as in Batch GD) or based on just one instance (as in Stochastic GD), Mini-batch GD computes the gradients on small random sets of instances called minibatches. "
   ]
  },
  {
   "cell_type": "markdown",
   "metadata": {},
   "source": [
    "[notes]  \n",
    "advantages:  \n",
    "1. The main advantage of Mini-batch GD over Stochastic GD is that you can get a performance boost from hardware optimization of matrix operations, especially when using GPUs.  \n",
    "2. The algorithm’s progress in parameter space is **less erratic** than with SGD, especially **with fairly large mini-batches**. As a result, Mini-batch GD will end up walking around a bit **closer to the minimum than SGD.**  \n",
    "  \n",
    "disadvantages:  \n",
    "1.  it may be **harder** for it to **escape from local minima**"
   ]
  },
  {
   "cell_type": "markdown",
   "metadata": {},
   "source": [
    "**<font color=#000000 size=5>Polynomial Regression</font>**"
   ]
  },
  {
   "cell_type": "markdown",
   "metadata": {},
   "source": [
    "[notes] you can actually use a linear model to fit nonlinear data"
   ]
  },
  {
   "cell_type": "markdown",
   "metadata": {},
   "source": [
    "[notes] for a quadratic function:  \n",
    "add the square (2nd-degree polynomial) of **each feature** in the training set as new features"
   ]
  },
  {
   "cell_type": "markdown",
   "metadata": {},
   "source": [
    "[sklearn]"
   ]
  },
  {
   "cell_type": "code",
   "execution_count": 21,
   "metadata": {},
   "outputs": [],
   "source": [
    "# generate some nonlinear data\n",
    "m = 100\n",
    "X = 6 * np.random.rand(m, 1) - 3\n",
    "y = 0.5 * X ** 2 + X + 2 + np.random.randn(m, 1)"
   ]
  },
  {
   "cell_type": "code",
   "execution_count": 23,
   "metadata": {},
   "outputs": [
    {
     "data": {
      "image/png": "[encoded data removed]",
      "text/plain": [
       "<Figure size 432x288 with 1 Axes>"
      ]
     },
     "metadata": {
      "needs_background": "light"
     },
     "output_type": "display_data"
    }
   ],
   "source": [
    "# plot\n",
    "plt.plot(X, y, \".\")\n",
    "plt.show()"
   ]
  },
  {
   "cell_type": "code",
   "execution_count": 26,
   "metadata": {},
   "outputs": [
    {
     "data": {
      "text/plain": [
       "(array([-0.96203277]), array([-0.96203277,  0.92550705]))"
      ]
     },
     "execution_count": 26,
     "metadata": {},
     "output_type": "execute_result"
    }
   ],
   "source": [
    "from sklearn.preprocessing import PolynomialFeatures\n",
    "\n",
    "# train a transformer\n",
    "poly_features = PolynomialFeatures(degree=2, include_bias=False)\n",
    "\n",
    "# transform data\n",
    "X_poly = poly_features.fit_transform(X)\n",
    "\n",
    "X[0], X_poly[0]"
   ]
  },
  {
   "cell_type": "code",
   "execution_count": 28,
   "metadata": {},
   "outputs": [
    {
     "data": {
      "text/plain": [
       "LinearRegression(copy_X=True, fit_intercept=True, n_jobs=None,\n",
       "         normalize=False)"
      ]
     },
     "execution_count": 28,
     "metadata": {},
     "output_type": "execute_result"
    }
   ],
   "source": [
    "# train a model\n",
    "lin_reg = LinearRegression()\n",
    "lin_reg.fit(X_poly, y)"
   ]
  },
  {
   "cell_type": "code",
   "execution_count": 29,
   "metadata": {},
   "outputs": [
    {
     "data": {
      "text/plain": [
       "(array([1.94453312]), array([[0.86273971, 0.54125563]]))"
      ]
     },
     "execution_count": 29,
     "metadata": {},
     "output_type": "execute_result"
    }
   ],
   "source": [
    "# intercept and coefficients\n",
    "lin_reg.intercept_, lin_reg.coef_"
   ]
  },
  {
   "cell_type": "code",
   "execution_count": 39,
   "metadata": {},
   "outputs": [
    {
     "data": {
      "image/png": "[encoded data removed]",
      "text/plain": [
       "<Figure size 432x288 with 1 Axes>"
      ]
     },
     "metadata": {
      "needs_background": "light"
     },
     "output_type": "display_data"
    }
   ],
   "source": [
    "# plot\n",
    "y_predict = lin_reg.predict(X_poly)\n",
    "plt.plot(X, y, \"b+\")\n",
    "plt.plot(X, y_predict, \"r.\")\n",
    "plt.show()"
   ]
  },
  {
   "cell_type": "markdown",
   "metadata": {},
   "source": [
    "[notes] find relationships  \n",
    "Note that when there are multiple features, Polynomial Regression is capable of finding relationships between features (which is something a plain Linear Regression\n",
    "model cannot do). This is made possible by the fact that PolynomialFeatures also\n",
    "adds all combinations of features up to the given degree. For example, if there were two features a and b, PolynomialFeatures with degree=3 would not only add the\n",
    "features $a^2$, $a^3$, $b^2$, and $b^3$, but also the combinations $ab$, $a^2b$, and $ab^2$."
   ]
  },
  {
   "cell_type": "markdown",
   "metadata": {},
   "source": [
    "[notes] combinatorial explosion  \n",
    "PolynomialFeatures(degree=d) transforms an array containing n features into an array containing $\\frac{(n+d)!}{d!n!}$ features, where n! is the factorial of n, equal to 1 × 2 × 3 × ⋯ × n. Beware of the combinatorial explosion of the number of features!"
   ]
  },
  {
   "cell_type": "code",
   "execution_count": null,
   "metadata": {},
   "outputs": [],
   "source": []
  }
 ],
 "metadata": {
  "kernelspec": {
   "display_name": "Python 3",
   "language": "python",
   "name": "python3"
  },
  "language_info": {
   "codemirror_mode": {
    "name": "ipython",
    "version": 3
   },
   "file_extension": ".py",
   "mimetype": "text/x-python",
   "name": "python",
   "nbconvert_exporter": "python",
   "pygments_lexer": "ipython3",
   "version": "3.7.2"
  }
 },
 "nbformat": 4,
 "nbformat_minor": 2
}
