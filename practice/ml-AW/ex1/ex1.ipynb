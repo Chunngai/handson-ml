{
 "cells": [
  {
   "cell_type": "markdown",
   "metadata": {},
   "source": [
    "**<font color=#000000 size=5>1 Look at the Big Picture</font>**  \n",
    "  \n",
    "&emsp;&emsp;**<font color=#000000 size=3>1.1 Frame the Problem</font>**  \n",
    "&emsp;&emsp;&emsp;&emsp;1. the objective is to use existed data to help select which city to expand to next.  \n",
    "&emsp;&emsp;&emsp;&emsp;2. the model will be used to predict profits for the food truck.  \n",
    "&emsp;&emsp;&emsp;&emsp;3. no current solution.  \n",
    "&emsp;&emsp;&emsp;&emsp;4. the model may be supervised, batch and model-based.  \n",
    "&emsp;&emsp;**<font color=#000000 size=3>1.2 Select a Performance Measure</font>**  \n",
    "&emsp;&emsp;&emsp;&emsp;1. performance will be measured using RMSE.  \n",
    "&emsp;&emsp;&emsp;&emsp;2. the performance measure is aligned with the business objective.  \n",
    "&emsp;&emsp;&emsp;&emsp;3. the minimum performance needed to reach the business objective is that the RMSE should be small so that the predicted profit is close to the real profit.  \n",
    "&emsp;&emsp;**<font color=#000000 size=3>1.3 Check the assumptions</font>**  \n",
    "&emsp;&emsp;&emsp;&emsp;1. given population, the model will predict the profit. and the profit can be used to judge if that city is suitable to expand to.  \n",
    "&emsp;&emsp;&emsp;&emsp;2. the assumption is feasible.  \n",
    "  \n",
    "&emsp;&emsp;*  \n",
    "&emsp;&emsp;&emsp;&emsp;1. the task of predicting house prices is a comparable problem. and the lin reg model that task adopted can be used here.  \n",
    "&emsp;&emsp;&emsp;&emsp;2. human expertise is available. there are some models made by human for predicting house prices.  \n",
    "&emsp;&emsp;&emsp;&emsp;3. to manually solve the problem, I will plot data on a coordinate, draw a line to fit as many points as possible. and given data, that is, an x, see the corresponding y value, which is the predicted profit.  \n"
   ]
  },
  {
   "cell_type": "markdown",
   "metadata": {},
   "source": [
    "**<font color=#000000 size=5>2 Get the Data</font>**"
   ]
  },
  {
   "cell_type": "markdown",
   "metadata": {},
   "source": [
    "&emsp;&emsp;**<font color=#000000 size=3>2.1 Create the Workspace</font>**  \n",
    "&emsp;&emsp;&emsp;&emsp;1. a work space created.  "
   ]
  },
  {
   "cell_type": "markdown",
   "metadata": {},
   "source": [
    "&emsp;&emsp;**<font color=#000000 size=3>2.2 Download the Data</font>**  \n",
    "&emsp;&emsp;&emsp;&emsp;1. the population of cities and profits of those cities are needed.  \n",
    "&emsp;&emsp;&emsp;&emsp;2. data can be fetched from \"C:\\Users\\Neko\\Desktop\\OneDrive\\Python\\handson-ml\\datasets\\ml-AW\\ex-1\\ex1data1.csv\".  \n",
    "&emsp;&emsp;&emsp;&emsp;3. the data will take about 1.34 KB.  \n",
    "&emsp;&emsp;&emsp;&emsp;4. legal obligations and authorization are not needed.  \n",
    "&emsp;&emsp;&emsp;&emsp;5. access authorizations are not needed.  "
   ]
  },
  {
   "cell_type": "code",
   "execution_count": 1,
   "metadata": {},
   "outputs": [],
   "source": [
    "# get data\n",
    "\n",
    "# get the data and convert it to a pd obj\n",
    "import pandas as pd\n",
    "\n",
    "def get_data(path):\n",
    "    return pd.read_csv(path)\n",
    "\n",
    "path = r\"C:\\Users\\Neko\\Desktop\\OneDrive\\Python\\handson-ml\\datasets\\ml-AW\\ex-1\\ex1data1.csv\"\n",
    "ex1data1 = get_data(path)"
   ]
  },
  {
   "cell_type": "markdown",
   "metadata": {},
   "source": [
    "\\* pd.read_csv(path)  \n",
    "path! not file data!  \n",
    "  \n",
    "\\* path = \"C:\\... ...\" (x)  \n",
    "path = r\"C:\\... ...\" (O)  \n",
    "path = \"C:/... ...\"(O)  "
   ]
  },
  {
   "cell_type": "markdown",
   "metadata": {},
   "source": [
    "&emsp;&emsp;&emsp;&emsp;6. the data is got.  \n",
    "&emsp;&emsp;&emsp;&emsp;7. the data is converted into a pd obj for manupulation.  \n",
    "&emsp;&emsp;&emsp;&emsp;8. sensitive info is not contained.  "
   ]
  },
  {
   "cell_type": "markdown",
   "metadata": {},
   "source": [
    "&emsp;&emsp;**<font color=#000000 size=3>2.3 Take a Quick Look at the Data Structure\n",
    "</font>**  "
   ]
  },
  {
   "cell_type": "code",
   "execution_count": 2,
   "metadata": {},
   "outputs": [
    {
     "data": {
      "text/html": [
       "<div>\n",
       "<style scoped>\n",
       "    .dataframe tbody tr th:only-of-type {\n",
       "        vertical-align: middle;\n",
       "    }\n",
       "\n",
       "    .dataframe tbody tr th {\n",
       "        vertical-align: top;\n",
       "    }\n",
       "\n",
       "    .dataframe thead th {\n",
       "        text-align: right;\n",
       "    }\n",
       "</style>\n",
       "<table border=\"1\" class=\"dataframe\">\n",
       "  <thead>\n",
       "    <tr style=\"text-align: right;\">\n",
       "      <th></th>\n",
       "      <th>population</th>\n",
       "      <th>profit</th>\n",
       "    </tr>\n",
       "  </thead>\n",
       "  <tbody>\n",
       "    <tr>\n",
       "      <th>0</th>\n",
       "      <td>6.1101</td>\n",
       "      <td>17.5920</td>\n",
       "    </tr>\n",
       "    <tr>\n",
       "      <th>1</th>\n",
       "      <td>5.5277</td>\n",
       "      <td>9.1302</td>\n",
       "    </tr>\n",
       "    <tr>\n",
       "      <th>2</th>\n",
       "      <td>8.5186</td>\n",
       "      <td>13.6620</td>\n",
       "    </tr>\n",
       "    <tr>\n",
       "      <th>3</th>\n",
       "      <td>7.0032</td>\n",
       "      <td>11.8540</td>\n",
       "    </tr>\n",
       "    <tr>\n",
       "      <th>4</th>\n",
       "      <td>5.8598</td>\n",
       "      <td>6.8233</td>\n",
       "    </tr>\n",
       "  </tbody>\n",
       "</table>\n",
       "</div>"
      ],
      "text/plain": [
       "   population   profit\n",
       "0      6.1101  17.5920\n",
       "1      5.5277   9.1302\n",
       "2      8.5186  13.6620\n",
       "3      7.0032  11.8540\n",
       "4      5.8598   6.8233"
      ]
     },
     "execution_count": 2,
     "metadata": {},
     "output_type": "execute_result"
    }
   ],
   "source": [
    "# take a look at the top 5 rows\n",
    "ex1data1.head()"
   ]
  },
  {
   "cell_type": "code",
   "execution_count": 3,
   "metadata": {},
   "outputs": [
    {
     "name": "stdout",
     "output_type": "stream",
     "text": [
      "<class 'pandas.core.frame.DataFrame'>\n",
      "RangeIndex: 97 entries, 0 to 96\n",
      "Data columns (total 2 columns):\n",
      "population    97 non-null float64\n",
      "profit        97 non-null float64\n",
      "dtypes: float64(2)\n",
      "memory usage: 1.6 KB\n"
     ]
    }
   ],
   "source": [
    "# see info\n",
    "ex1data1.info()"
   ]
  },
  {
   "cell_type": "code",
   "execution_count": 4,
   "metadata": {},
   "outputs": [
    {
     "data": {
      "text/html": [
       "<div>\n",
       "<style scoped>\n",
       "    .dataframe tbody tr th:only-of-type {\n",
       "        vertical-align: middle;\n",
       "    }\n",
       "\n",
       "    .dataframe tbody tr th {\n",
       "        vertical-align: top;\n",
       "    }\n",
       "\n",
       "    .dataframe thead th {\n",
       "        text-align: right;\n",
       "    }\n",
       "</style>\n",
       "<table border=\"1\" class=\"dataframe\">\n",
       "  <thead>\n",
       "    <tr style=\"text-align: right;\">\n",
       "      <th></th>\n",
       "      <th>population</th>\n",
       "      <th>profit</th>\n",
       "    </tr>\n",
       "  </thead>\n",
       "  <tbody>\n",
       "    <tr>\n",
       "      <th>count</th>\n",
       "      <td>97.000000</td>\n",
       "      <td>97.000000</td>\n",
       "    </tr>\n",
       "    <tr>\n",
       "      <th>mean</th>\n",
       "      <td>8.159800</td>\n",
       "      <td>5.839135</td>\n",
       "    </tr>\n",
       "    <tr>\n",
       "      <th>std</th>\n",
       "      <td>3.869884</td>\n",
       "      <td>5.510262</td>\n",
       "    </tr>\n",
       "    <tr>\n",
       "      <th>min</th>\n",
       "      <td>5.026900</td>\n",
       "      <td>-2.680700</td>\n",
       "    </tr>\n",
       "    <tr>\n",
       "      <th>25%</th>\n",
       "      <td>5.707700</td>\n",
       "      <td>1.986900</td>\n",
       "    </tr>\n",
       "    <tr>\n",
       "      <th>50%</th>\n",
       "      <td>6.589400</td>\n",
       "      <td>4.562300</td>\n",
       "    </tr>\n",
       "    <tr>\n",
       "      <th>75%</th>\n",
       "      <td>8.578100</td>\n",
       "      <td>7.046700</td>\n",
       "    </tr>\n",
       "    <tr>\n",
       "      <th>max</th>\n",
       "      <td>22.203000</td>\n",
       "      <td>24.147000</td>\n",
       "    </tr>\n",
       "  </tbody>\n",
       "</table>\n",
       "</div>"
      ],
      "text/plain": [
       "       population     profit\n",
       "count   97.000000  97.000000\n",
       "mean     8.159800   5.839135\n",
       "std      3.869884   5.510262\n",
       "min      5.026900  -2.680700\n",
       "25%      5.707700   1.986900\n",
       "50%      6.589400   4.562300\n",
       "75%      8.578100   7.046700\n",
       "max     22.203000  24.147000"
      ]
     },
     "execution_count": 4,
     "metadata": {},
     "output_type": "execute_result"
    }
   ],
   "source": [
    "# see info of numerical attrs\n",
    "ex1data1.describe()"
   ]
  },
  {
   "cell_type": "code",
   "execution_count": 5,
   "metadata": {},
   "outputs": [
    {
     "data": {
      "text/plain": [
       "array([[<matplotlib.axes._subplots.AxesSubplot object at 0x000001B4837FEDA0>,\n",
       "        <matplotlib.axes._subplots.AxesSubplot object at 0x000001B483AA1400>]],\n",
       "      dtype=object)"
      ]
     },
     "execution_count": 5,
     "metadata": {},
     "output_type": "execute_result"
    },
    {
     "data": {
      "image/png": "[encoded data removed]",
      "text/plain": [
       "<Figure size 1440x1080 with 2 Axes>"
      ]
     },
     "metadata": {
      "needs_background": "light"
     },
     "output_type": "display_data"
    }
   ],
   "source": [
    "# plot numerical attrs\n",
    "%matplotlib inline\n",
    "import matplotlib.pyplot as plt\n",
    "\n",
    "ex1data1.hist(bins=50, figsize=(20, 15))"
   ]
  },
  {
   "cell_type": "markdown",
   "metadata": {},
   "source": [
    "\\* pd_obj.hist(bins, figsize)"
   ]
  },
  {
   "cell_type": "markdown",
   "metadata": {},
   "source": [
    "&emsp;&emsp;&emsp;&emsp;1. there are 97 instances, all of the data is float64. 2 attrs. no null values.  polulation mostly falls on 5.0-10.0. profit mostly falls on 0-10 and there are negative values.  the population histogram is tail heavy.  "
   ]
  },
  {
   "cell_type": "markdown",
   "metadata": {},
   "source": [
    "&emsp;&emsp;**<font color=#000000 size=3>2.4 Create a Test Set\n",
    "</font>**  "
   ]
  },
  {
   "cell_type": "code",
   "execution_count": 6,
   "metadata": {},
   "outputs": [],
   "source": [
    "# creata a test set\n",
    "from sklearn.model_selection import train_test_split\n",
    "train_set, test_set = train_test_split(ex1data1, test_size=0.2, random_state=42)"
   ]
  },
  {
   "cell_type": "markdown",
   "metadata": {},
   "source": [
    "1. a test set is created."
   ]
  },
  {
   "cell_type": "markdown",
   "metadata": {},
   "source": [
    "**<font color=#000000 size=5>3 Discover and Visualize the Data to gain Insights</font>**"
   ]
  },
  {
   "cell_type": "markdown",
   "metadata": {},
   "source": [
    "&emsp;&emsp;**<font color=#000000 size=3>3.0 Create a Copy</font>**  \n",
    "&emsp;&emsp;&emsp;&emsp;1. create a copy of the training set.  "
   ]
  },
  {
   "cell_type": "code",
   "execution_count": 7,
   "metadata": {},
   "outputs": [],
   "source": [
    "# create a copy\n",
    "ex1data1 = train_set.copy()"
   ]
  },
  {
   "cell_type": "markdown",
   "metadata": {},
   "source": [
    "  \n",
    "&emsp;&emsp;*  \n",
    "&emsp;&emsp;&emsp;&emsp;1. a jupyter notebook is created to record the data exploration.  \n",
    "&emsp;&emsp;&emsp;&emsp;2.  attr names: population, profit.  \n",
    "&emsp;&emsp;&emsp;&emsp;&emsp;type: float64.  \n",
    "&emsp;&emsp;&emsp;&emsp;&emsp;no missing value.  \n",
    "&emsp;&emsp;&emsp;&emsp;&emsp;no noise.  \n",
    "&emsp;&emsp;&emsp;&emsp;&emsp;useful fot the task.  \n",
    "&emsp;&emsp;&emsp;&emsp;&emsp;the population attr is like the right half of the Gaussian distribution and the profit attr is like the Gaussian distribution.  \n",
    "&emsp;&emsp;&emsp;&emsp;3. the target attr is the profit.  "
   ]
  },
  {
   "cell_type": "code",
   "execution_count": 8,
   "metadata": {},
   "outputs": [
    {
     "data": {
      "text/plain": [
       "<matplotlib.axes._subplots.AxesSubplot at 0x1b482c15668>"
      ]
     },
     "execution_count": 8,
     "metadata": {},
     "output_type": "execute_result"
    },
    {
     "data": {
      "image/png": "[encoded data removed]",
      "text/plain": [
       "<Figure size 432x288 with 1 Axes>"
      ]
     },
     "metadata": {
      "needs_background": "light"
     },
     "output_type": "display_data"
    }
   ],
   "source": [
    "# plot the attrs\n",
    "ex1data1.plot(kind=\"scatter\", x=\"population\", y=\"profit\")"
   ]
  },
  {
   "cell_type": "markdown",
   "metadata": {},
   "source": [
    "&emsp;&emsp;**<font color=#000000 size=3>3.1 Visualizing the data</font>**  \n",
    "&emsp;&emsp;&emsp;&emsp;1. visualize the data. the horizontal axis is the population and the vertical axis is the profit.  "
   ]
  },
  {
   "cell_type": "markdown",
   "metadata": {},
   "source": [
    "&emsp;&emsp;**<font color=#000000 size=3>3.2 Looking for Correlations</font>**  \n",
    "&emsp;&emsp;&emsp;&emsp;1. the corr of the attrs.  "
   ]
  },
  {
   "cell_type": "code",
   "execution_count": 9,
   "metadata": {},
   "outputs": [
    {
     "data": {
      "text/plain": [
       "profit        1.000000\n",
       "population    0.866811\n",
       "Name: profit, dtype: float64"
      ]
     },
     "execution_count": 9,
     "metadata": {},
     "output_type": "execute_result"
    }
   ],
   "source": [
    "# explore the corr\n",
    "corr_matrix = ex1data1.corr()\n",
    "corr_matrix[\"profit\"].sort_values(ascending=False)"
   ]
  },
  {
   "cell_type": "code",
   "execution_count": 10,
   "metadata": {},
   "outputs": [
    {
     "data": {
      "text/plain": [
       "array([[<matplotlib.axes._subplots.AxesSubplot object at 0x000001B4863CFA20>,\n",
       "        <matplotlib.axes._subplots.AxesSubplot object at 0x000001B486409240>],\n",
       "       [<matplotlib.axes._subplots.AxesSubplot object at 0x000001B486431828>,\n",
       "        <matplotlib.axes._subplots.AxesSubplot object at 0x000001B486458EB8>]],\n",
       "      dtype=object)"
      ]
     },
     "execution_count": 10,
     "metadata": {},
     "output_type": "execute_result"
    },
    {
     "data": {
      "image/png": "[encoded data removed]",
      "text/plain": [
       "<Figure size 1296x1440 with 4 Axes>"
      ]
     },
     "metadata": {
      "needs_background": "light"
     },
     "output_type": "display_data"
    }
   ],
   "source": [
    "# another way to see the corr\n",
    "from pandas.plotting import scatter_matrix\n",
    "\n",
    "attr = [\"population\", \"profit\"]\n",
    "scatter_matrix(ex1data1[attr], figsize=(18, 20))"
   ]
  },
  {
   "cell_type": "markdown",
   "metadata": {},
   "source": [
    "&emsp;&emsp;&emsp;&emsp;2. no transformation is needed.  \n",
    "&emsp;&emsp;&emsp;&emsp;3. to manually solve the problem, I will plot data on a coordinate, draw a line to fit as many points as possible. and given data, that is, an x, see the corresponding y value, which is the predicted profit.  "
   ]
  },
  {
   "cell_type": "markdown",
   "metadata": {},
   "source": [
    "**<font color=#000000 size=3>3.3 Experimenting with Attribute Combinations</font>**"
   ]
  },
  {
   "cell_type": "markdown",
   "metadata": {},
   "source": [
    "&emsp;&emsp;&emsp;&emsp;1. add an extra attr: profit per person"
   ]
  },
  {
   "cell_type": "code",
   "execution_count": 11,
   "metadata": {},
   "outputs": [
    {
     "data": {
      "text/plain": [
       "profit               1.000000\n",
       "population           0.866811\n",
       "profit_per_person    0.775286\n",
       "Name: profit, dtype: float64"
      ]
     },
     "execution_count": 11,
     "metadata": {},
     "output_type": "execute_result"
    }
   ],
   "source": [
    "# add an attr\n",
    "ex1data1[\"profit_per_person\"] = ex1data1[\"profit\"] / ex1data1[\"population\"]\n",
    "\n",
    "# explore the corr again\n",
    "corr_matrix = ex1data1.corr()\n",
    "corr_matrix[\"profit\"].sort_values(ascending=False)"
   ]
  },
  {
   "cell_type": "code",
   "execution_count": 12,
   "metadata": {},
   "outputs": [],
   "source": [
    "# the attr is not useful. thus drop it\n",
    "ex1data1 = ex1data1.drop(\"profit_per_person\", axis=1)"
   ]
  },
  {
   "cell_type": "markdown",
   "metadata": {},
   "source": [
    "  \n",
    "&emsp;&emsp;*  \n",
    "&emsp;&emsp;&emsp;&emsp;1. documented the exploration."
   ]
  },
  {
   "cell_type": "markdown",
   "metadata": {},
   "source": [
    "**<font color=#000000 size=5>4 Prepare the Data for machine Learning Algorithms</font>**"
   ]
  },
  {
   "cell_type": "markdown",
   "metadata": {},
   "source": [
    "**<font color=#000000 size=3>4.0 revert to a clean training set and seperate the predictors and the labels</font>**  "
   ]
  },
  {
   "cell_type": "code",
   "execution_count": 13,
   "metadata": {},
   "outputs": [],
   "source": [
    "# seperate the predictors and the labels\n",
    "ex1data1 = train_set.drop(\"profit\", axis=1)\n",
    "ex1data1_labels = train_set[\"profit\"].copy()"
   ]
  },
  {
   "cell_type": "markdown",
   "metadata": {},
   "source": [
    "**<font color=#000000 size=3>4.1 Data Cleaning</font></u>**  \n",
    "&emsp;&emsp;&emsp;&emsp;1. data cleaning is not needed.  \n",
    "  \n",
    "&emsp;&emsp;*  \n",
    "&emsp;&emsp;&emsp;&emsp;1. feature selection is not needed.  "
   ]
  },
  {
   "cell_type": "markdown",
   "metadata": {},
   "source": [
    "**<font color=#000000 size=3>4.2 Handling Text and Categorical Attributes</font>**  \n",
    "**<font color=#000000 size=3>4.3 Custom Transformers</font>**  \n",
    "&emsp;&emsp;&emsp;&emsp;1. feature engineering is not needed.  "
   ]
  },
  {
   "cell_type": "markdown",
   "metadata": {},
   "source": [
    "**<font color=#000000 size=3>4.4 Feature Scaling</font>**  \n",
    "&emsp;&emsp;&emsp;&emsp;1. do normalization here.  "
   ]
  },
  {
   "cell_type": "code",
   "execution_count": 14,
   "metadata": {},
   "outputs": [
    {
     "data": {
      "text/plain": [
       "array([[2.99660575e-02],\n",
       "       [2.97454020e-01],\n",
       "       [2.75091552e-02],\n",
       "       [2.05227031e-02],\n",
       "       [7.72294060e-02],\n",
       "       [5.03548535e-02],\n",
       "       [1.61270603e-03],\n",
       "       [4.08882109e-02],\n",
       "       [5.31965929e-01],\n",
       "       [1.27578437e-01],\n",
       "       [4.87136195e-01],\n",
       "       [1.31287079e-02],\n",
       "       [4.74444140e-01],\n",
       "       [5.67707454e-02],\n",
       "       [1.95387777e-01],\n",
       "       [1.20295061e-01],\n",
       "       [8.91593552e-01],\n",
       "       [1.69217692e-01],\n",
       "       [7.79280512e-02],\n",
       "       [5.70152712e-02],\n",
       "       [1.85385507e-01],\n",
       "       [2.06752406e-01],\n",
       "       [7.75496184e-02],\n",
       "       [3.45252997e-01],\n",
       "       [1.18996745e-01],\n",
       "       [4.70421108e-03],\n",
       "       [8.10317825e-01],\n",
       "       [1.49987483e-01],\n",
       "       [1.96872398e-01],\n",
       "       [3.13225936e-02],\n",
       "       [1.15061044e-01],\n",
       "       [6.00834881e-03],\n",
       "       [4.54649193e-01],\n",
       "       [8.49610796e-02],\n",
       "       [1.46232265e-01],\n",
       "       [1.42610954e-01],\n",
       "       [3.05488440e-01],\n",
       "       [1.78678513e-01],\n",
       "       [2.03206782e-01],\n",
       "       [7.26183476e-02],\n",
       "       [2.38703780e-02],\n",
       "       [7.60300650e-02],\n",
       "       [4.34790203e-02],\n",
       "       [1.46325417e-01],\n",
       "       [1.90276023e-01],\n",
       "       [2.52094480e-03],\n",
       "       [3.03276064e-01],\n",
       "       [8.87279417e-03],\n",
       "       [1.90177048e-01],\n",
       "       [5.58916168e-04],\n",
       "       [1.08033838e-01],\n",
       "       [2.49375586e-01],\n",
       "       [3.88510780e-01],\n",
       "       [8.66902265e-02],\n",
       "       [3.56774821e-02],\n",
       "       [2.45765919e-01],\n",
       "       [1.51937867e-01],\n",
       "       [2.57724396e-01],\n",
       "       [5.75281932e-01],\n",
       "       [3.96364716e-02],\n",
       "       [3.37329196e-02],\n",
       "       [1.00000000e+00],\n",
       "       [2.91567935e-02],\n",
       "       [1.39554381e-01],\n",
       "       [8.87459901e-01],\n",
       "       [2.03288290e-01],\n",
       "       [7.56399881e-02],\n",
       "       [2.87317843e-02],\n",
       "       [0.00000000e+00],\n",
       "       [2.41806929e-01],\n",
       "       [7.73633130e-02],\n",
       "       [6.76637886e-02],\n",
       "       [2.21150319e-01],\n",
       "       [1.34349474e-01],\n",
       "       [3.57357025e-02],\n",
       "       [4.91264024e-02],\n",
       "       [1.63482979e-02]])"
      ]
     },
     "execution_count": 14,
     "metadata": {},
     "output_type": "execute_result"
    }
   ],
   "source": [
    "# normalization\n",
    "from sklearn.preprocessing import MinMaxScaler\n",
    "\n",
    "min_max_scaler = MinMaxScaler()\n",
    "ex1data1_prepared = min_max_scaler.fit_transform(ex1data1)\n",
    "ex1data1_prepared"
   ]
  },
  {
   "cell_type": "markdown",
   "metadata": {},
   "source": [
    "**<font color=#000000 size=3>4.5 Transformation Pipelines</font>**  "
   ]
  },
  {
   "cell_type": "markdown",
   "metadata": {},
   "source": [
    "**<font color=#000000 size=5>5 Select and Train a Model</font>**"
   ]
  },
  {
   "cell_type": "markdown",
   "metadata": {},
   "source": [
    "**<font color=#000000 size=3>5.1 Training and Evaluating on the Training Set</font>**  \n",
    "&emsp;&emsp;&emsp;&emsp;1. train quick and dirty models."
   ]
  },
  {
   "cell_type": "code",
   "execution_count": 24,
   "metadata": {},
   "outputs": [
    {
     "data": {
      "text/plain": [
       "LinearRegression(copy_X=True, fit_intercept=True, n_jobs=None,\n",
       "         normalize=False)"
      ]
     },
     "execution_count": 24,
     "metadata": {},
     "output_type": "execute_result"
    }
   ],
   "source": [
    "# train a linear regression model\n",
    "from sklearn.linear_model import LinearRegression\n",
    "\n",
    "lin_reg = LinearRegression()\n",
    "lin_reg.fit(ex1data1_prepared, ex1data1_labels)"
   ]
  },
  {
   "cell_type": "code",
   "execution_count": 25,
   "metadata": {},
   "outputs": [
    {
     "name": "stdout",
     "output_type": "stream",
     "text": [
      "[2.40257177 8.3179939  2.34823806 2.19373461 3.44778762]\n",
      "[1.0179, 6.6799, 1.0173, 3.5129, 5.4974]\n"
     ]
    }
   ],
   "source": [
    "# get some instances\n",
    "some_data = ex1data1.iloc[:5]\n",
    "some_labels = ex1data1_labels.iloc[:5]\n",
    "# transformation\n",
    "some_data_prepared = min_max_scaler.transform(some_data)\n",
    "\n",
    "# predict\n",
    "print(lin_reg.predict(some_data_prepared))\n",
    "print(list(some_labels))"
   ]
  },
  {
   "cell_type": "code",
   "execution_count": 36,
   "metadata": {},
   "outputs": [
    {
     "data": {
      "text/plain": [
       "2.715036804697891"
      ]
     },
     "execution_count": 36,
     "metadata": {},
     "output_type": "execute_result"
    }
   ],
   "source": [
    "# evaluate\n",
    "from sklearn.metrics import mean_squared_error\n",
    "import numpy as np\n",
    "\n",
    "# predict using the whole training set\n",
    "ex1data1_lin_reg_predictions = lin_reg.predict(ex1data1_prepared)\n",
    "\n",
    "# mse\n",
    "lin_mse = mean_squared_error(ex1data1_labels, ex1data1_lin_reg_predictions)\n",
    "# rmse\n",
    "lin_rmse = np.sqrt(lin_mse)\n",
    "\n",
    "lin_rmse"
   ]
  },
  {
   "cell_type": "code",
   "execution_count": 37,
   "metadata": {},
   "outputs": [
    {
     "data": {
      "text/plain": [
       "DecisionTreeRegressor(criterion='mse', max_depth=None, max_features=None,\n",
       "           max_leaf_nodes=None, min_impurity_decrease=0.0,\n",
       "           min_impurity_split=None, min_samples_leaf=1,\n",
       "           min_samples_split=2, min_weight_fraction_leaf=0.0,\n",
       "           presort=False, random_state=None, splitter='best')"
      ]
     },
     "execution_count": 37,
     "metadata": {},
     "output_type": "execute_result"
    }
   ],
   "source": [
    "# train a decision tree model\n",
    "from sklearn.tree import DecisionTreeRegressor\n",
    "\n",
    "tree_reg = DecisionTreeRegressor()\n",
    "tree_reg.fit(ex1data1_prepared, ex1data1_labels)"
   ]
  },
  {
   "cell_type": "code",
   "execution_count": 38,
   "metadata": {},
   "outputs": [
    {
     "name": "stdout",
     "output_type": "stream",
     "text": [
      "[1.0179 6.6799 1.0173 3.5129 5.4974]\n",
      "[1.0179, 6.6799, 1.0173, 3.5129, 5.4974]\n"
     ]
    }
   ],
   "source": [
    "# predict\n",
    "print(tree_reg.predict(some_data_prepared))\n",
    "print(list(some_labels))"
   ]
  },
  {
   "cell_type": "code",
   "execution_count": 41,
   "metadata": {},
   "outputs": [
    {
     "data": {
      "text/plain": [
       "0.0"
      ]
     },
     "execution_count": 41,
     "metadata": {},
     "output_type": "execute_result"
    }
   ],
   "source": [
    "# predict using the whole training set\n",
    "ex1data1_tree_reg_predictions = tree_reg.predict(ex1data1_prepared)\n",
    "\n",
    "# mse\n",
    "tree_mse = mean_squared_error(ex1data1_labels, ex1data1_tree_reg_predictions)\n",
    "# rmse\n",
    "tree_rmse = np.sqrt(tree_mse)\n",
    "\n",
    "tree_mse"
   ]
  },
  {
   "cell_type": "markdown",
   "metadata": {},
   "source": [
    "**<font color=#000000 size=3>5.2 Better Evaluation Using Cross-Validation</font>**  \n",
    "&emsp;&emsp;&emsp;&emsp;1. use cv to evaluate models.  \n",
    "&emsp;&emsp;&emsp;&emsp;2. the most significant var for each algor?"
   ]
  },
  {
   "cell_type": "code",
   "execution_count": 58,
   "metadata": {},
   "outputs": [
    {
     "name": "stdout",
     "output_type": "stream",
     "text": [
      "scores: [1.67011176 3.23192587 2.94950759 3.09598098 1.77396063 1.90247967\n",
      " 3.5154819  2.94686037 3.48392187 2.1723731 ]\n",
      "mean: 2.6742603735144437\n",
      "std: 0.6832647068680541\n"
     ]
    }
   ],
   "source": [
    "# use cv to evaluate the lin_reg model\n",
    "from sklearn.model_selection import cross_val_score\n",
    "\n",
    "# scores\n",
    "lin_reg_scores = cross_val_score(lin_reg, ex1data1_prepared, ex1data1_labels, scoring=\"neg_mean_squared_error\", cv=10)\n",
    "# rmse\n",
    "lin_rmse_scores = np.sqrt(-lin_reg_scores)\n",
    "# print results\n",
    "print(\"scores: %s\\nmean: %s\\nstd: %s\" % (lin_rmse_scores, lin_rmse_scores.mean(), lin_rmse_scores.std()))"
   ]
  },
  {
   "cell_type": "code",
   "execution_count": 60,
   "metadata": {},
   "outputs": [
    {
     "name": "stdout",
     "output_type": "stream",
     "text": [
      "scores: [4.05622031 3.25518503 2.96894964 4.66451299 4.08894314 2.96754655\n",
      " 5.22997485 3.93526711 6.35675937 4.200733  ]\n",
      "mean: 4.172409196740098\n",
      "std: 0.9975375205864476\n"
     ]
    }
   ],
   "source": [
    "# use cv to evaluate the tree_reg model\n",
    "\n",
    "# scores\n",
    "tree_reg_scores = cross_val_score(tree_reg, ex1data1_prepared, ex1data1_labels, scoring=\"neg_mean_squared_error\", cv=10)\n",
    "# rmse\n",
    "tree_rmse_scores = np.sqrt(-tree_reg_scores)\n",
    "# print results\n",
    "print(\"scores: %s\\nmean: %s\\nstd: %s\" % (tree_rmse_scores, tree_rmse_scores.mean(), tree_rmse_scores.std()))"
   ]
  },
  {
   "cell_type": "markdown",
   "metadata": {},
   "source": [
    "&emsp;&emsp;&emsp;&emsp;3. it seems the lin model performs well and the tree model \n",
    "overfitted.  \n",
    "&emsp;&emsp;&emsp;&emsp;4. feature selection and engineering are not needed here.  \n",
    "&emsp;&emsp;&emsp;&emsp;5. have one or two quick iterations. (not done here)  \n",
    "&emsp;&emsp;&emsp;&emsp;6. (assume that) the lin reg and the tree reg model are the two best and the lin reg works better."
   ]
  },
  {
   "cell_type": "markdown",
   "metadata": {},
   "source": [
    "**<font color=#000000 size=5>6 Fine-Tune Your Model</font>**  "
   ]
  },
  {
   "cell_type": "markdown",
   "metadata": {},
   "source": [
    "**<font color=#000000 size=3>6.2 Randomized Search</font>**  \n",
    "&emsp;&emsp;&emsp;&emsp;1. fine-tune the model using cv  \n",
    "&emsp;&emsp;&emsp;&emsp;2. ensemble method are not used here."
   ]
  },
  {
   "cell_type": "markdown",
   "metadata": {},
   "source": [
    "**<font color=#000000 size=3>6.5 Evaluate Your System on the Test Set</font>**  \n",
    "&emsp;&emsp;&emsp;&emsp;1. measure the performance of the best model on the test set to estimate its generalization error."
   ]
  }
 ],
 "metadata": {
  "kernelspec": {
   "display_name": "Python 3",
   "language": "python",
   "name": "python3"
  },
  "language_info": {
   "codemirror_mode": {
    "name": "ipython",
    "version": 3
   },
   "file_extension": ".py",
   "mimetype": "text/x-python",
   "name": "python",
   "nbconvert_exporter": "python",
   "pygments_lexer": "ipython3",
   "version": "3.7.2"
  }
 },
 "nbformat": 4,
 "nbformat_minor": 2
}
