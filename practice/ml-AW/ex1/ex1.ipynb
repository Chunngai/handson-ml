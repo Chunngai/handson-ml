{
 "cells": [
  {
   "cell_type": "markdown",
   "metadata": {},
   "source": [
    "**<font color=#000000 size=5>1 Look at the Big Picture</font>**  \n",
    "  \n",
    "&emsp;&emsp;**<font color=#000000 size=3>1.1 Frame the Problem</font>**  \n",
    "&emsp;&emsp;&emsp;&emsp;1. the objective is to use existed data to help select which city to expand to next.  \n",
    "&emsp;&emsp;&emsp;&emsp;2. the model will be used to predict profits for the food truck.  \n",
    "&emsp;&emsp;&emsp;&emsp;3. no current solution.  \n",
    "&emsp;&emsp;&emsp;&emsp;4. the model may be supervised, batch and model-based.  \n",
    "&emsp;&emsp;**<font color=#000000 size=3>1.2 Select a Performance Measure</font>**  \n",
    "&emsp;&emsp;&emsp;&emsp;1. performance will be measured using RMSE.  \n",
    "&emsp;&emsp;&emsp;&emsp;2. the performance measure is aligned with the business objective.  \n",
    "&emsp;&emsp;&emsp;&emsp;3. the minimum performance needed to reach the business objective is that the RMSE should be small so that the predicted profit is close to the real profit.  \n",
    "&emsp;&emsp;**<font color=#000000 size=3>1.3 Check the assumptions</font>**  \n",
    "&emsp;&emsp;&emsp;&emsp;1. given population, the model will predict the profit. and the profit can be used to judge if that city is suitable to expand to.  \n",
    "&emsp;&emsp;&emsp;&emsp;2. the assumption is feasible.  \n",
    "  \n",
    "&emsp;&emsp;*  \n",
    "&emsp;&emsp;&emsp;&emsp;1. the task of predicting house prices is a comparable problem. and the lin reg model that task adopted can be used here.  \n",
    "&emsp;&emsp;&emsp;&emsp;2. human expertise is available. there are some models made by human for predicting house prices.  \n",
    "&emsp;&emsp;&emsp;&emsp;3. to manually solve the problem, I will plot data on a coordinate, draw a line to fit as many points as possible. and given data, that is, an x, see the corresponding y value, which is the predicted profit.  \n"
   ]
  },
  {
   "cell_type": "markdown",
   "metadata": {},
   "source": [
    "**<font color=#000000 size=5>2 Get the Data</font>**"
   ]
  },
  {
   "cell_type": "markdown",
   "metadata": {},
   "source": [
    "&emsp;&emsp;**<font color=#000000 size=3>2.1 Create the Workspace</font>**  \n",
    "&emsp;&emsp;&emsp;&emsp;1. a work space created.  "
   ]
  },
  {
   "cell_type": "markdown",
   "metadata": {},
   "source": [
    "&emsp;&emsp;**<font color=#000000 size=3>2.2 Download the Data</font>**  \n",
    "&emsp;&emsp;&emsp;&emsp;1. the population of cities and profits of those cities are needed.  \n",
    "&emsp;&emsp;&emsp;&emsp;2. data can be fetched from \"C:\\Users\\Neko\\Desktop\\OneDrive\\Python\\handson-ml\\datasets\\ml-AW\\ex-1\\ex1data1.csv\".  \n",
    "&emsp;&emsp;&emsp;&emsp;3. the data will take about 1.34 KB.  \n",
    "&emsp;&emsp;&emsp;&emsp;4. legal obligations and authorization are not needed.  \n",
    "&emsp;&emsp;&emsp;&emsp;5. access authorizations are not needed.  "
   ]
  },
  {
   "cell_type": "code",
   "execution_count": 10,
   "metadata": {},
   "outputs": [],
   "source": [
    "# get data\n",
    "\n",
    "# get the data and convert it to a pd obj\n",
    "import pandas as pd\n",
    "\n",
    "def get_data(path):\n",
    "    return pd.read_csv(path)\n",
    "\n",
    "path = r\"C:\\Users\\Neko\\Desktop\\OneDrive\\Python\\handson-ml\\datasets\\ml-AW\\ex-1\\ex1data1.csv\"\n",
    "ex1data1 = get_data(path)"
   ]
  },
  {
   "cell_type": "markdown",
   "metadata": {},
   "source": [
    "\\* pd.read_csv(path)  \n",
    "path! not file data!  \n",
    "  \n",
    "\\* path = \"C:\\... ...\" (x)  \n",
    "path = r\"C:\\... ...\" (O)  \n",
    "path = \"C:/... ...\"(O)  "
   ]
  },
  {
   "cell_type": "markdown",
   "metadata": {},
   "source": [
    "&emsp;&emsp;&emsp;&emsp;6. the data is got.  \n",
    "&emsp;&emsp;&emsp;&emsp;7. the data is converted into a pd obj for manupulation.  \n",
    "&emsp;&emsp;&emsp;&emsp;8. sensitive info is not contained.  "
   ]
  },
  {
   "cell_type": "markdown",
   "metadata": {},
   "source": [
    "&emsp;&emsp;**<font color=#000000 size=3>2.3 Take a Quick Look at the Data Structure\n",
    "</font>**  "
   ]
  },
  {
   "cell_type": "code",
   "execution_count": 12,
   "metadata": {},
   "outputs": [
    {
     "data": {
      "text/html": [
       "<div>\n",
       "<style scoped>\n",
       "    .dataframe tbody tr th:only-of-type {\n",
       "        vertical-align: middle;\n",
       "    }\n",
       "\n",
       "    .dataframe tbody tr th {\n",
       "        vertical-align: top;\n",
       "    }\n",
       "\n",
       "    .dataframe thead th {\n",
       "        text-align: right;\n",
       "    }\n",
       "</style>\n",
       "<table border=\"1\" class=\"dataframe\">\n",
       "  <thead>\n",
       "    <tr style=\"text-align: right;\">\n",
       "      <th></th>\n",
       "      <th>population</th>\n",
       "      <th>profit</th>\n",
       "    </tr>\n",
       "  </thead>\n",
       "  <tbody>\n",
       "    <tr>\n",
       "      <th>0</th>\n",
       "      <td>6.1101</td>\n",
       "      <td>17.5920</td>\n",
       "    </tr>\n",
       "    <tr>\n",
       "      <th>1</th>\n",
       "      <td>5.5277</td>\n",
       "      <td>9.1302</td>\n",
       "    </tr>\n",
       "    <tr>\n",
       "      <th>2</th>\n",
       "      <td>8.5186</td>\n",
       "      <td>13.6620</td>\n",
       "    </tr>\n",
       "    <tr>\n",
       "      <th>3</th>\n",
       "      <td>7.0032</td>\n",
       "      <td>11.8540</td>\n",
       "    </tr>\n",
       "    <tr>\n",
       "      <th>4</th>\n",
       "      <td>5.8598</td>\n",
       "      <td>6.8233</td>\n",
       "    </tr>\n",
       "  </tbody>\n",
       "</table>\n",
       "</div>"
      ],
      "text/plain": [
       "   population   profit\n",
       "0      6.1101  17.5920\n",
       "1      5.5277   9.1302\n",
       "2      8.5186  13.6620\n",
       "3      7.0032  11.8540\n",
       "4      5.8598   6.8233"
      ]
     },
     "execution_count": 12,
     "metadata": {},
     "output_type": "execute_result"
    }
   ],
   "source": [
    "# take a look at the top 5 rows\n",
    "ex1data1.head()"
   ]
  },
  {
   "cell_type": "code",
   "execution_count": 13,
   "metadata": {},
   "outputs": [
    {
     "name": "stdout",
     "output_type": "stream",
     "text": [
      "<class 'pandas.core.frame.DataFrame'>\n",
      "RangeIndex: 97 entries, 0 to 96\n",
      "Data columns (total 2 columns):\n",
      "population    97 non-null float64\n",
      "profit        97 non-null float64\n",
      "dtypes: float64(2)\n",
      "memory usage: 1.6 KB\n"
     ]
    }
   ],
   "source": [
    "# see info\n",
    "ex1data1.info()"
   ]
  },
  {
   "cell_type": "code",
   "execution_count": 14,
   "metadata": {},
   "outputs": [
    {
     "data": {
      "text/html": [
       "<div>\n",
       "<style scoped>\n",
       "    .dataframe tbody tr th:only-of-type {\n",
       "        vertical-align: middle;\n",
       "    }\n",
       "\n",
       "    .dataframe tbody tr th {\n",
       "        vertical-align: top;\n",
       "    }\n",
       "\n",
       "    .dataframe thead th {\n",
       "        text-align: right;\n",
       "    }\n",
       "</style>\n",
       "<table border=\"1\" class=\"dataframe\">\n",
       "  <thead>\n",
       "    <tr style=\"text-align: right;\">\n",
       "      <th></th>\n",
       "      <th>population</th>\n",
       "      <th>profit</th>\n",
       "    </tr>\n",
       "  </thead>\n",
       "  <tbody>\n",
       "    <tr>\n",
       "      <th>count</th>\n",
       "      <td>97.000000</td>\n",
       "      <td>97.000000</td>\n",
       "    </tr>\n",
       "    <tr>\n",
       "      <th>mean</th>\n",
       "      <td>8.159800</td>\n",
       "      <td>5.839135</td>\n",
       "    </tr>\n",
       "    <tr>\n",
       "      <th>std</th>\n",
       "      <td>3.869884</td>\n",
       "      <td>5.510262</td>\n",
       "    </tr>\n",
       "    <tr>\n",
       "      <th>min</th>\n",
       "      <td>5.026900</td>\n",
       "      <td>-2.680700</td>\n",
       "    </tr>\n",
       "    <tr>\n",
       "      <th>25%</th>\n",
       "      <td>5.707700</td>\n",
       "      <td>1.986900</td>\n",
       "    </tr>\n",
       "    <tr>\n",
       "      <th>50%</th>\n",
       "      <td>6.589400</td>\n",
       "      <td>4.562300</td>\n",
       "    </tr>\n",
       "    <tr>\n",
       "      <th>75%</th>\n",
       "      <td>8.578100</td>\n",
       "      <td>7.046700</td>\n",
       "    </tr>\n",
       "    <tr>\n",
       "      <th>max</th>\n",
       "      <td>22.203000</td>\n",
       "      <td>24.147000</td>\n",
       "    </tr>\n",
       "  </tbody>\n",
       "</table>\n",
       "</div>"
      ],
      "text/plain": [
       "       population     profit\n",
       "count   97.000000  97.000000\n",
       "mean     8.159800   5.839135\n",
       "std      3.869884   5.510262\n",
       "min      5.026900  -2.680700\n",
       "25%      5.707700   1.986900\n",
       "50%      6.589400   4.562300\n",
       "75%      8.578100   7.046700\n",
       "max     22.203000  24.147000"
      ]
     },
     "execution_count": 14,
     "metadata": {},
     "output_type": "execute_result"
    }
   ],
   "source": [
    "# see info of numerical attrs\n",
    "ex1data1.describe()"
   ]
  },
  {
   "cell_type": "code",
   "execution_count": 20,
   "metadata": {},
   "outputs": [
    {
     "data": {
      "text/plain": [
       "array([[<matplotlib.axes._subplots.AxesSubplot object at 0x000002D9EF6C5438>,\n",
       "        <matplotlib.axes._subplots.AxesSubplot object at 0x000002D9ED5782E8>]],\n",
       "      dtype=object)"
      ]
     },
     "execution_count": 20,
     "metadata": {},
     "output_type": "execute_result"
    },
    {
     "data": {
      "image/png": "[encoded data removed]",
      "text/plain": [
       "<Figure size 1440x1080 with 2 Axes>"
      ]
     },
     "metadata": {
      "needs_background": "light"
     },
     "output_type": "display_data"
    }
   ],
   "source": [
    "# plot numerical attrs\n",
    "%matplotlib inline\n",
    "import matplotlib.pyplot as plt\n",
    "\n",
    "ex1data1.hist(bins=50, figsize=(20, 15))"
   ]
  },
  {
   "cell_type": "markdown",
   "metadata": {},
   "source": [
    "\\* pd_obj.hist(bins, figsize)"
   ]
  },
  {
   "cell_type": "markdown",
   "metadata": {},
   "source": [
    "&emsp;&emsp;&emsp;&emsp;1. there are 97 instances, all of the data is float64. 2 attrs. no null values.  polulation mostly falls on 5.0-10.0. profit mostly falls on 0-10 and there are negative values.  the population histogram is tail heavy.  "
   ]
  },
  {
   "cell_type": "code",
   "execution_count": null,
   "metadata": {},
   "outputs": [],
   "source": []
  }
 ],
 "metadata": {
  "kernelspec": {
   "display_name": "Python 3",
   "language": "python",
   "name": "python3"
  },
  "language_info": {
   "codemirror_mode": {
    "name": "ipython",
    "version": 3
   },
   "file_extension": ".py",
   "mimetype": "text/x-python",
   "name": "python",
   "nbconvert_exporter": "python",
   "pygments_lexer": "ipython3",
   "version": "3.7.2"
  }
 },
 "nbformat": 4,
 "nbformat_minor": 2
}
